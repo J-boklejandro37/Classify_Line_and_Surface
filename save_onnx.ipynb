{
 "cells": [
  {
   "cell_type": "code",
   "execution_count": 2,
   "metadata": {},
   "outputs": [],
   "source": [
    "import torch\n",
    "import torch.nn as nn\n",
    "import torch.nn.functional as F\n",
    "import torch.onnx"
   ]
  },
  {
   "cell_type": "code",
   "execution_count": 3,
   "metadata": {},
   "outputs": [],
   "source": [
    "# First, recreate the EXACT same model architecture\n",
    "class MeshClassifier(nn.Module):\n",
    "    def __init__(self, input_dim=3, num_classes=3):\n",
    "        super(MeshClassifier, self).__init__()\n",
    "\n",
    "        # filter\n",
    "        self.filter = nn.Conv1d(input_dim, 32, kernel_size=3, padding=1)\n",
    "\n",
    "        self.conv1 = nn.Conv1d(32, 64, 1)\n",
    "        self.conv2 = nn.Conv1d(64, 128, 1)\n",
    "        self.conv3 = nn.Conv1d(128, 256, 1)\n",
    "        self.conv4 = nn.Conv1d(256, 512, 1)\n",
    "\n",
    "        self.fc1 = nn.Linear(512, 128)\n",
    "        self.fc2 = nn.Linear(128, num_classes)\n",
    "        self.dropout = nn.Dropout(0)\n",
    "\n",
    "    def forward(self, vertices_list):\n",
    "        batch_features = []\n",
    "        \n",
    "        for vertices in vertices_list:\n",
    "            x = vertices.T.unsqueeze(0) # (N, 3) -> (1, 3, N)\n",
    "            \n",
    "            x = F.relu(self.filter(x))\n",
    "            x = F.relu(self.conv1(x))\n",
    "            x = F.relu(self.conv2(x))\n",
    "            x = F.relu(self.conv3(x))\n",
    "            x = F.relu(self.conv4(x))\n",
    "            x = torch.max(x, dim=2)[0]  # Global max pooling (1, 512)\n",
    "            batch_features.append(x.squeeze(0))  # (512,)\n",
    "\n",
    "        batch_features = torch.stack(batch_features)  # (batch_size, 512)\n",
    "        x = F.relu(self.fc1(batch_features))\n",
    "        x = self.dropout(x)\n",
    "        x = self.fc2(x)\n",
    "        return x"
   ]
  },
  {
   "cell_type": "code",
   "execution_count": 4,
   "metadata": {},
   "outputs": [
    {
     "data": {
      "text/plain": [
       "MeshClassifier(\n",
       "  (filter): Conv1d(3, 32, kernel_size=(3,), stride=(1,), padding=(1,))\n",
       "  (conv1): Conv1d(32, 64, kernel_size=(1,), stride=(1,))\n",
       "  (conv2): Conv1d(64, 128, kernel_size=(1,), stride=(1,))\n",
       "  (conv3): Conv1d(128, 256, kernel_size=(1,), stride=(1,))\n",
       "  (conv4): Conv1d(256, 512, kernel_size=(1,), stride=(1,))\n",
       "  (fc1): Linear(in_features=512, out_features=128, bias=True)\n",
       "  (fc2): Linear(in_features=128, out_features=3, bias=True)\n",
       "  (dropout): Dropout(p=0, inplace=False)\n",
       ")"
      ]
     },
     "execution_count": 4,
     "metadata": {},
     "output_type": "execute_result"
    }
   ],
   "source": [
    "# Load the model\n",
    "device = torch.device(\"cuda\" if torch.cuda.is_available() else \"cpu\")\n",
    "model = MeshClassifier().to(device)\n",
    "model.load_state_dict(torch.load(\"model/mesh_classifier.pth\"))\n",
    "model.eval()"
   ]
  },
  {
   "cell_type": "code",
   "execution_count": 6,
   "metadata": {},
   "outputs": [],
   "source": [
    "# Dummy input is used by ONNX to trace the execution of the model to capture its computational graph\n",
    "dummy_input = [torch.randn(1500, 3).to(device)]  # Match the model's expected input format -> List of tensor\n",
    "\n",
    "# Export to ONNX\n",
    "torch.onnx.export(\n",
    "    model,\n",
    "    dummy_input,\n",
    "    \"model/mesh_classifier.onnx\",\n",
    "    export_params=True,\n",
    "    opset_version=13,\n",
    "    do_constant_folding=True,\n",
    "    input_names=[\"vertices\"],\n",
    "    output_names=[\"class_scores\"],\n",
    "    dynamic_axes={\n",
    "        \"vertices\": {0: \"num_vertices\"},  # Dynamic vertex count\n",
    "    }\n",
    ")"
   ]
  }
 ],
 "metadata": {
  "kernelspec": {
   "display_name": "pytorch_env",
   "language": "python",
   "name": "python3"
  },
  "language_info": {
   "codemirror_mode": {
    "name": "ipython",
    "version": 3
   },
   "file_extension": ".py",
   "mimetype": "text/x-python",
   "name": "python",
   "nbconvert_exporter": "python",
   "pygments_lexer": "ipython3",
   "version": "3.12.9"
  }
 },
 "nbformat": 4,
 "nbformat_minor": 2
}
