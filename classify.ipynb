{
 "cells": [
  {
   "cell_type": "code",
   "execution_count": 26,
   "metadata": {},
   "outputs": [],
   "source": [
    "import os\n",
    "import pandas as pd\n",
    "import torch\n",
    "import torch.nn as nn\n",
    "import torch.nn.functional as F\n",
    "import numpy as np\n",
    "import trimesh\n",
    "import random\n",
    "import csv\n",
    "from tqdm import tqdm\n",
    "from torch.utils.data import Dataset, DataLoader, random_split\n",
    "from torch.utils.data._utils.collate import default_collate\n",
    "\n",
    "\n",
    "class MeshDataset(Dataset):\n",
    "    def __init__(self, csv_file, mesh_dir, transform=None):\n",
    "        \"\"\"\n",
    "        Args:\n",
    "            csv_file (string): Path to the csv file with mesh filenames and labels\n",
    "            mesh_dir (string): Directory with all the mesh files\n",
    "            transform (callable, optional): Optional transform for the mesh data\n",
    "        \"\"\"\n",
    "        self.data_frame = pd.read_csv(csv_file, header=None, names=['filename', 'label'])\n",
    "        self.mesh_dir = mesh_dir\n",
    "        self.transform = transform\n",
    "    \n",
    "    def __len__(self):\n",
    "        return len(self.data_frame)\n",
    "    \n",
    "    def __getitem__(self, idx):\n",
    "        if torch.is_tensor(idx):\n",
    "            idx = idx.tolist()\n",
    "        \n",
    "        # Get mesh filename and label\n",
    "        mesh_name = self.data_frame.iloc[idx, 0].strip()\n",
    "        mesh_path = os.path.join(self.mesh_dir, mesh_name)\n",
    "        label = self.data_frame.iloc[idx, 1]\n",
    "        \n",
    "        # Load the mesh\n",
    "        mesh = trimesh.load(mesh_path)\n",
    "        \n",
    "        # Extract mesh features\n",
    "        vertices = torch.FloatTensor(mesh.vertices)\n",
    "        faces = torch.LongTensor(mesh.faces)\n",
    "        \n",
    "        sample = {\n",
    "            'filename': mesh_name,\n",
    "            'vertices': vertices,\n",
    "            'faces': faces,\n",
    "            'label': torch.tensor(label, dtype=torch.long),\n",
    "            'num_vertices': vertices.shape[0],\n",
    "            'num_faces': faces.shape[0]\n",
    "        }\n",
    "        \n",
    "        if self.transform:\n",
    "            sample = self.transform(sample)\n",
    "            \n",
    "        return sample\n",
    "\n",
    "\n",
    "def mesh_collate_fn(batch):\n",
    "    \"\"\"\n",
    "    Custom collate function for meshes with different sizes\n",
    "    \"\"\"\n",
    "    # Get all keys from the first item in the batch\n",
    "    keys = batch[0].keys()\n",
    "    \n",
    "    collated_batch = {}\n",
    "    \n",
    "    for key in keys:\n",
    "        if key in ['vertices', 'faces']:\n",
    "            # These are variable-sized tensors, so we just keep them as a list\n",
    "            collated_batch[key] = [item[key] for item in batch]\n",
    "        else:\n",
    "            # For other items, use the default collation\n",
    "            collated_batch[key] = default_collate([item[key] for item in batch])\n",
    "            \n",
    "    return collated_batch"
   ]
  },
  {
   "cell_type": "code",
   "execution_count": null,
   "metadata": {},
   "outputs": [
    {
     "name": "stderr",
     "output_type": "stream",
     "text": [
      "Epoch 1/20: 100%|██████████| 42/42 [00:14<00:00,  2.99it/s, loss=2.12]   \n"
     ]
    },
    {
     "name": "stdout",
     "output_type": "stream",
     "text": [
      "Epoch 1/20, Training Loss: 58.541\n"
     ]
    },
    {
     "name": "stderr",
     "output_type": "stream",
     "text": [
      "Epoch 2/20: 100%|██████████| 42/42 [00:15<00:00,  2.68it/s, loss=2.52] \n"
     ]
    },
    {
     "name": "stdout",
     "output_type": "stream",
     "text": [
      "Epoch 2/20, Training Loss: 42.992\n"
     ]
    },
    {
     "name": "stderr",
     "output_type": "stream",
     "text": [
      "Epoch 3/20: 100%|██████████| 42/42 [00:19<00:00,  2.12it/s, loss=1.98] \n"
     ]
    },
    {
     "name": "stdout",
     "output_type": "stream",
     "text": [
      "Epoch 3/20, Training Loss: 34.577\n"
     ]
    },
    {
     "name": "stderr",
     "output_type": "stream",
     "text": [
      "Epoch 4/20: 100%|██████████| 42/42 [00:19<00:00,  2.12it/s, loss=1.5]  \n"
     ]
    },
    {
     "name": "stdout",
     "output_type": "stream",
     "text": [
      "Epoch 4/20, Training Loss: 29.903\n"
     ]
    },
    {
     "name": "stderr",
     "output_type": "stream",
     "text": [
      "Epoch 5/20: 100%|██████████| 42/42 [00:20<00:00,  2.09it/s, loss=1.53] \n"
     ]
    },
    {
     "name": "stdout",
     "output_type": "stream",
     "text": [
      "Epoch 5/20, Training Loss: 28.314\n"
     ]
    },
    {
     "name": "stderr",
     "output_type": "stream",
     "text": [
      "Epoch 6/20: 100%|██████████| 42/42 [00:19<00:00,  2.12it/s, loss=1.22] \n"
     ]
    },
    {
     "name": "stdout",
     "output_type": "stream",
     "text": [
      "Epoch 6/20, Training Loss: 24.465\n"
     ]
    },
    {
     "name": "stderr",
     "output_type": "stream",
     "text": [
      "Epoch 7/20: 100%|██████████| 42/42 [00:18<00:00,  2.22it/s, loss=1.09]  \n"
     ]
    },
    {
     "name": "stdout",
     "output_type": "stream",
     "text": [
      "Epoch 7/20, Training Loss: 21.170\n"
     ]
    },
    {
     "name": "stderr",
     "output_type": "stream",
     "text": [
      "Epoch 8/20: 100%|██████████| 42/42 [00:18<00:00,  2.24it/s, loss=1.08]  \n"
     ]
    },
    {
     "name": "stdout",
     "output_type": "stream",
     "text": [
      "Epoch 8/20, Training Loss: 18.590\n"
     ]
    },
    {
     "name": "stderr",
     "output_type": "stream",
     "text": [
      "Epoch 9/20: 100%|██████████| 42/42 [00:19<00:00,  2.13it/s, loss=0.847] \n"
     ]
    },
    {
     "name": "stdout",
     "output_type": "stream",
     "text": [
      "Epoch 9/20, Training Loss: 15.947\n"
     ]
    },
    {
     "name": "stderr",
     "output_type": "stream",
     "text": [
      "Epoch 10/20: 100%|██████████| 42/42 [00:21<00:00,  1.97it/s, loss=0.82]   \n"
     ]
    },
    {
     "name": "stdout",
     "output_type": "stream",
     "text": [
      "Epoch 10/20, Training Loss: 14.382\n"
     ]
    },
    {
     "name": "stderr",
     "output_type": "stream",
     "text": [
      "Epoch 11/20: 100%|██████████| 42/42 [00:20<00:00,  2.09it/s, loss=0.738]  \n"
     ]
    },
    {
     "name": "stdout",
     "output_type": "stream",
     "text": [
      "Epoch 11/20, Training Loss: 16.261\n"
     ]
    },
    {
     "name": "stderr",
     "output_type": "stream",
     "text": [
      "Epoch 12/20: 100%|██████████| 42/42 [00:19<00:00,  2.11it/s, loss=0.751]   \n"
     ]
    },
    {
     "name": "stdout",
     "output_type": "stream",
     "text": [
      "Epoch 12/20, Training Loss: 15.703\n"
     ]
    },
    {
     "name": "stderr",
     "output_type": "stream",
     "text": [
      "Epoch 13/20: 100%|██████████| 42/42 [00:20<00:00,  2.08it/s, loss=0.769]  \n"
     ]
    },
    {
     "name": "stdout",
     "output_type": "stream",
     "text": [
      "Epoch 13/20, Training Loss: 16.058\n"
     ]
    },
    {
     "name": "stderr",
     "output_type": "stream",
     "text": [
      "Epoch 14/20: 100%|██████████| 42/42 [00:19<00:00,  2.20it/s, loss=0.896]  \n"
     ]
    },
    {
     "name": "stdout",
     "output_type": "stream",
     "text": [
      "Epoch 14/20, Training Loss: 13.802\n"
     ]
    },
    {
     "name": "stderr",
     "output_type": "stream",
     "text": [
      "Epoch 15/20: 100%|██████████| 42/42 [00:17<00:00,  2.44it/s, loss=0.825]  \n"
     ]
    },
    {
     "name": "stdout",
     "output_type": "stream",
     "text": [
      "Epoch 15/20, Training Loss: 11.650\n"
     ]
    },
    {
     "name": "stderr",
     "output_type": "stream",
     "text": [
      "Epoch 16/20: 100%|██████████| 42/42 [00:13<00:00,  3.22it/s, loss=0.959]  \n"
     ]
    },
    {
     "name": "stdout",
     "output_type": "stream",
     "text": [
      "Epoch 16/20, Training Loss: 11.707\n"
     ]
    },
    {
     "name": "stderr",
     "output_type": "stream",
     "text": [
      "Epoch 17/20: 100%|██████████| 42/42 [00:17<00:00,  2.34it/s, loss=1.11]  \n"
     ]
    },
    {
     "name": "stdout",
     "output_type": "stream",
     "text": [
      "Epoch 17/20, Training Loss: 12.067\n"
     ]
    },
    {
     "name": "stderr",
     "output_type": "stream",
     "text": [
      "Epoch 18/20: 100%|██████████| 42/42 [00:17<00:00,  2.43it/s, loss=0.756]  \n"
     ]
    },
    {
     "name": "stdout",
     "output_type": "stream",
     "text": [
      "Epoch 18/20, Training Loss: 11.677\n"
     ]
    },
    {
     "name": "stderr",
     "output_type": "stream",
     "text": [
      "Epoch 19/20: 100%|██████████| 42/42 [00:17<00:00,  2.43it/s, loss=0.633]   \n"
     ]
    },
    {
     "name": "stdout",
     "output_type": "stream",
     "text": [
      "Epoch 19/20, Training Loss: 7.796\n"
     ]
    },
    {
     "name": "stderr",
     "output_type": "stream",
     "text": [
      "Epoch 20/20: 100%|██████████| 42/42 [00:18<00:00,  2.32it/s, loss=0.535]  "
     ]
    },
    {
     "name": "stdout",
     "output_type": "stream",
     "text": [
      "Epoch 20/20, Training Loss: 4.845\n"
     ]
    },
    {
     "name": "stderr",
     "output_type": "stream",
     "text": [
      "\n"
     ]
    }
   ],
   "source": [
    "def set_seed(seed):\n",
    "    random.seed(seed)\n",
    "    np.random.seed(seed)\n",
    "    torch.manual_seed(seed)\n",
    "    torch.cuda.manual_seed_all(seed)\n",
    "    torch.backends.cudnn.deterministic = True\n",
    "    torch.backends.cudnn.benchmark = False\n",
    "    torch.use_deterministic_algorithms(True)\n",
    "\n",
    "set_seed(22)\n",
    "\n",
    "# 讀data\n",
    "mesh_dir = \"obj_files/\"\n",
    "dataset = MeshDataset(csv_file='labels.csv', mesh_dir=mesh_dir)\n",
    "\n",
    "# 創建 DataLoader\n",
    "Data_loader = DataLoader(dataset, batch_size=4, shuffle=False, num_workers=0, collate_fn=mesh_collate_fn)\n",
    "\n",
    "# 定義 MeshClassifier\n",
    "class MeshClassifier(nn.Module):\n",
    "    def __init__(self, input_dim=3, num_classes=3):\n",
    "        super(MeshClassifier, self).__init__()\n",
    "\n",
    "        # filter\n",
    "        self.filter = nn.Conv1d(input_dim, 32, kernel_size=3, padding=1)\n",
    "\n",
    "        self.conv1 = nn.Conv1d(32, 64, 1)\n",
    "        self.conv2 = nn.Conv1d(64, 128, 1)\n",
    "        self.conv3 = nn.Conv1d(128, 256, 1)\n",
    "        self.conv4 = nn.Conv1d(256, 512, 1)\n",
    "\n",
    "        self.fc1 = nn.Linear(512, 128)\n",
    "        self.fc2 = nn.Linear(128, num_classes)\n",
    "        self.dropout = nn.Dropout(0)\n",
    "\n",
    "    def forward(self, vertices_list):\n",
    "        batch_features = []\n",
    "        \n",
    "        for vertices in vertices_list:\n",
    "            x = vertices.T.unsqueeze(0) # (N, 3) -> (1, 3, N)\n",
    "            \n",
    "            x = F.relu(self.filter(x))\n",
    "            x = F.relu(self.conv1(x))\n",
    "            x = F.relu(self.conv2(x))\n",
    "            x = F.relu(self.conv3(x))\n",
    "            x = F.relu(self.conv4(x))\n",
    "            x = torch.max(x, dim=2)[0]  # 全域最大池化 (1, 512)\n",
    "            batch_features.append(x.squeeze(0))  # (512,)\n",
    "\n",
    "        batch_features = torch.stack(batch_features)  # (batch_size, 512)\n",
    "        x = F.relu(self.fc1(batch_features))\n",
    "        x = self.dropout(x)\n",
    "        x = self.fc2(x)\n",
    "        return x  \n",
    "\n",
    "# initialize\n",
    "device = torch.device(\"cuda\" if torch.cuda.is_available() else \"cpu\")\n",
    "model = MeshClassifier().to(device)\n",
    "optimizer = torch.optim.Adam(model.parameters(), lr=0.0005)\n",
    "scheduler = torch.optim.lr_scheduler.StepLR(optimizer, step_size=4, gamma=0.5)\n",
    "criterion = nn.CrossEntropyLoss()\n",
    "\n",
    "# training\n",
    "num_epochs = 20\n",
    "for epoch in range(num_epochs):\n",
    "    model.train()\n",
    "    total_train_loss = 0.0\n",
    "    \n",
    "    progress_bar = tqdm(Data_loader, desc=f\"Epoch {epoch+1}/{num_epochs}\")\n",
    "\n",
    "    for batch in progress_bar:\n",
    "        optimizer.zero_grad()\n",
    "        \n",
    "        vertices_list = [v.to(device) for v in batch['vertices']]\n",
    "        labels = batch['label'].to(device)\n",
    "        output = model(vertices_list)\n",
    "        loss = criterion(output, labels)\n",
    "        loss.backward()\n",
    "        optimizer.step()\n",
    "        \n",
    "        total_train_loss += loss.item()\n",
    "\n",
    "        # 更新 tqdm\n",
    "        progress_bar.set_postfix(loss=loss.item())\n",
    "\n",
    "    print(f\"Epoch {epoch+1}/{num_epochs}, Training Loss: {total_train_loss:.3f}\")"
   ]
  },
  {
   "cell_type": "markdown",
   "metadata": {},
   "source": []
  },
  {
   "cell_type": "code",
   "execution_count": 28,
   "metadata": {},
   "outputs": [
    {
     "name": "stdout",
     "output_type": "stream",
     "text": [
      "檔案: chair_001_01.obj, 預測類別: 0, 機率: [0.9941, 0.005, 0.0009]\n",
      "檔案: chair_001_02.obj, 預測類別: 0, 機率: [1.0, 0.0, 0.0]\n",
      "檔案: chair_001_03.obj, 預測類別: 0, 機率: [0.9993, 0.0, 0.0007]\n",
      "檔案: chair_001_04.obj, 預測類別: 0, 機率: [1.0, 0.0, 0.0]\n",
      "檔案: chair_001_05.obj, 預測類別: 0, 機率: [1.0, 0.0, 0.0]\n",
      "檔案: chair_001_06.obj, 預測類別: 0, 機率: [1.0, 0.0, 0.0]\n",
      "檔案: chair_001_07.obj, 預測類別: 0, 機率: [0.9985, 0.0006, 0.0009]\n",
      "檔案: chair_001_08.obj, 預測類別: 0, 機率: [0.9382, 0.0225, 0.0393]\n",
      "檔案: chair_001_09.obj, 預測類別: 0, 機率: [0.9987, 0.0007, 0.0006]\n",
      "檔案: chair_001_10.obj, 預測類別: 0, 機率: [1.0, 0.0, 0.0]\n",
      "檔案: chair_001_11.obj, 預測類別: 0, 機率: [1.0, 0.0, 0.0]\n",
      "檔案: chair_001_12.obj, 預測類別: 0, 機率: [1.0, 0.0, 0.0]\n",
      "檔案: chair_001_13.obj, 預測類別: 0, 機率: [0.9999, 0.0001, 0.0]\n",
      "檔案: chair_001_14.obj, 預測類別: 0, 機率: [0.9998, 0.0002, 0.0001]\n",
      "檔案: chair_001_15.obj, 預測類別: 0, 機率: [0.9984, 0.0011, 0.0005]\n",
      "檔案: chair_001_16.obj, 預測類別: 0, 機率: [0.9571, 0.0412, 0.0017]\n",
      "檔案: chair_001_17.obj, 預測類別: 0, 機率: [0.9987, 0.0013, 0.0]\n",
      "檔案: chair_001_18.obj, 預測類別: 0, 機率: [0.9942, 0.0057, 0.0001]\n",
      "檔案: chair_001_19.obj, 預測類別: 0, 機率: [0.9995, 0.0005, 0.0]\n",
      "檔案: chair_001_20.obj, 預測類別: 0, 機率: [0.9992, 0.0008, 0.0]\n",
      "檔案: chair_001_21.obj, 預測類別: 0, 機率: [0.9952, 0.0047, 0.0001]\n",
      "檔案: chair_001_22.obj, 預測類別: 0, 機率: [0.9866, 0.0132, 0.0003]\n",
      "檔案: chair_001_23.obj, 預測類別: 0, 機率: [0.9878, 0.0113, 0.0009]\n",
      "檔案: chair_011_01.obj, 預測類別: 1, 機率: [0.0035, 0.9964, 0.0001]\n",
      "檔案: chair_011_02.obj, 預測類別: 1, 機率: [0.0352, 0.9463, 0.0186]\n",
      "檔案: chair_011_03.obj, 預測類別: 1, 機率: [0.0209, 0.9755, 0.0036]\n",
      "檔案: chair_011_04.obj, 預測類別: 1, 機率: [0.0185, 0.9791, 0.0025]\n",
      "檔案: chair_011_05.obj, 預測類別: 1, 機率: [0.0075, 0.9916, 0.0009]\n",
      "檔案: chair_011_06.obj, 預測類別: 0, 機率: [0.9607, 0.0091, 0.0302]\n",
      "檔案: chair_011_07.obj, 預測類別: 0, 機率: [0.9752, 0.0059, 0.0189]\n",
      "檔案: chair_011_08.obj, 預測類別: 0, 機率: [0.9992, 0.0003, 0.0005]\n",
      "檔案: chair_011_09.obj, 預測類別: 0, 機率: [0.9836, 0.0003, 0.0161]\n",
      "檔案: chair_011_10.obj, 預測類別: 0, 機率: [0.9977, 0.0014, 0.0009]\n",
      "檔案: chair_015_01.obj, 預測類別: 0, 機率: [0.9985, 0.0015, 0.0]\n",
      "檔案: chair_015_02.obj, 預測類別: 0, 機率: [0.9353, 0.0642, 0.0005]\n",
      "檔案: chair_015_03.obj, 預測類別: 0, 機率: [0.9998, 0.0002, 0.0]\n",
      "檔案: chair_015_04.obj, 預測類別: 1, 機率: [0.0347, 0.9652, 0.0001]\n",
      "檔案: chair_015_05.obj, 預測類別: 0, 機率: [0.9954, 0.0043, 0.0003]\n",
      "檔案: chair_015_06.obj, 預測類別: 0, 機率: [0.9852, 0.0141, 0.0007]\n",
      "檔案: chair_015_07.obj, 預測類別: 0, 機率: [1.0, 0.0, 0.0]\n",
      "檔案: chair_015_08.obj, 預測類別: 0, 機率: [0.9992, 0.0, 0.0008]\n",
      "檔案: chair_015_09.obj, 預測類別: 0, 機率: [1.0, 0.0, 0.0]\n",
      "檔案: chair_015_10.obj, 預測類別: 0, 機率: [1.0, 0.0, 0.0]\n",
      "檔案: chair_018_01.obj, 預測類別: 1, 機率: [0.0064, 0.9922, 0.0014]\n",
      "檔案: chair_018_02.obj, 預測類別: 0, 機率: [1.0, 0.0, 0.0]\n",
      "檔案: chair_018_03.obj, 預測類別: 0, 機率: [0.9989, 0.0, 0.0011]\n",
      "檔案: chair_018_04.obj, 預測類別: 0, 機率: [0.9976, 0.0002, 0.0022]\n",
      "檔案: chair_018_05.obj, 預測類別: 0, 機率: [0.9893, 0.003, 0.0077]\n",
      "檔案: chair_018_06.obj, 預測類別: 0, 機率: [0.9998, 0.0002, 0.0001]\n",
      "檔案: chair_018_07.obj, 預測類別: 0, 機率: [0.9773, 0.0223, 0.0005]\n",
      "檔案: chair_018_08.obj, 預測類別: 0, 機率: [0.9985, 0.0014, 0.0002]\n",
      "檔案: chair_018_09.obj, 預測類別: 0, 機率: [0.9508, 0.0457, 0.0035]\n",
      "檔案: chair_019_01.obj, 預測類別: 1, 機率: [0.0025, 0.9975, 0.0]\n",
      "檔案: chair_019_02.obj, 預測類別: 1, 機率: [0.0004, 0.9996, 0.0]\n",
      "檔案: chair_019_03.obj, 預測類別: 1, 機率: [0.0, 1.0, 0.0]\n",
      "檔案: chair_019_04.obj, 預測類別: 1, 機率: [0.0002, 0.9995, 0.0003]\n",
      "檔案: chair_019_05.obj, 預測類別: 1, 機率: [0.0007, 0.9965, 0.0028]\n",
      "檔案: chair_019_06.obj, 預測類別: 1, 機率: [0.001, 0.9974, 0.0016]\n",
      "檔案: chair_019_07.obj, 預測類別: 1, 機率: [0.0012, 0.9973, 0.0016]\n",
      "檔案: chair_019_08.obj, 預測類別: 1, 機率: [0.0, 1.0, 0.0]\n",
      "檔案: chair_019_09.obj, 預測類別: 0, 機率: [0.8614, 0.0008, 0.1378]\n",
      "檔案: chair_019_10.obj, 預測類別: 0, 機率: [0.8096, 0.0001, 0.1903]\n",
      "檔案: chair_019_11.obj, 預測類別: 0, 機率: [0.9775, 0.0003, 0.0221]\n",
      "檔案: chair_019_12.obj, 預測類別: 0, 機率: [0.9533, 0.0122, 0.0345]\n",
      "檔案: chair_019_13.obj, 預測類別: 0, 機率: [0.9999, 0.0, 0.0]\n",
      "檔案: chair_019_14.obj, 預測類別: 0, 機率: [0.9934, 0.0006, 0.006]\n",
      "檔案: chair_023_01.obj, 預測類別: 1, 機率: [0.0041, 0.9951, 0.0009]\n",
      "檔案: chair_023_02.obj, 預測類別: 1, 機率: [0.0052, 0.9933, 0.0016]\n",
      "檔案: chair_023_03.obj, 預測類別: 1, 機率: [0.0076, 0.9883, 0.0041]\n",
      "檔案: chair_023_04.obj, 預測類別: 1, 機率: [0.0053, 0.9905, 0.0042]\n",
      "檔案: chair_023_05.obj, 預測類別: 2, 機率: [0.1671, 0.0856, 0.7473]\n",
      "檔案: chair_023_06.obj, 預測類別: 0, 機率: [0.9864, 0.0, 0.0136]\n",
      "檔案: chair_023_07.obj, 預測類別: 0, 機率: [0.9928, 0.0001, 0.0072]\n",
      "檔案: chair_023_08.obj, 預測類別: 0, 機率: [0.9991, 0.0, 0.0009]\n",
      "檔案: chair_023_09.obj, 預測類別: 0, 機率: [0.9986, 0.0, 0.0014]\n",
      "檔案: chair_026_01.obj, 預測類別: 1, 機率: [0.1173, 0.8822, 0.0005]\n",
      "檔案: chair_026_02.obj, 預測類別: 1, 機率: [0.0016, 0.9967, 0.0018]\n",
      "檔案: chair_026_03.obj, 預測類別: 1, 機率: [0.0011, 0.998, 0.0009]\n",
      "檔案: chair_026_04.obj, 預測類別: 0, 機率: [1.0, 0.0, 0.0]\n",
      "檔案: chair_026_05.obj, 預測類別: 0, 機率: [1.0, 0.0, 0.0]\n",
      "檔案: chair_026_06.obj, 預測類別: 0, 機率: [1.0, 0.0, 0.0]\n",
      "檔案: chair_026_07.obj, 預測類別: 0, 機率: [0.9998, 0.0001, 0.0001]\n",
      "檔案: chair_027_01.obj, 預測類別: 1, 機率: [0.1301, 0.8659, 0.004]\n",
      "檔案: chair_027_02.obj, 預測類別: 0, 機率: [1.0, 0.0, 0.0]\n",
      "檔案: chair_027_03.obj, 預測類別: 0, 機率: [0.9952, 0.0018, 0.003]\n",
      "檔案: chair_027_04.obj, 預測類別: 1, 機率: [0.1053, 0.872, 0.0227]\n",
      "檔案: chair_027_05.obj, 預測類別: 0, 機率: [0.9994, 0.0003, 0.0003]\n",
      "檔案: chair_027_06.obj, 預測類別: 0, 機率: [0.9945, 0.0045, 0.001]\n",
      "檔案: chair_027_07.obj, 預測類別: 0, 機率: [0.9999, 0.0, 0.0001]\n",
      "檔案: chair_027_08.obj, 預測類別: 0, 機率: [0.9997, 0.0, 0.0003]\n",
      "檔案: chair_027_09.obj, 預測類別: 0, 機率: [0.8514, 0.1453, 0.0033]\n",
      "檔案: chair_027_10.obj, 預測類別: 0, 機率: [0.9689, 0.0217, 0.0094]\n",
      "檔案: chair_027_11.obj, 預測類別: 0, 機率: [0.973, 0.0108, 0.0162]\n",
      "檔案: chair_027_12.obj, 預測類別: 0, 機率: [0.9983, 0.0014, 0.0003]\n",
      "檔案: chair_028_01.obj, 預測類別: 0, 機率: [0.975, 0.0245, 0.0005]\n",
      "檔案: chair_028_02.obj, 預測類別: 0, 機率: [0.9961, 0.0001, 0.0038]\n",
      "檔案: chair_028_03.obj, 預測類別: 0, 機率: [0.9805, 0.0017, 0.0178]\n",
      "檔案: chair_028_04.obj, 預測類別: 0, 機率: [0.99, 0.01, 0.0]\n",
      "檔案: chair_028_05.obj, 預測類別: 0, 機率: [0.9999, 0.0001, 0.0]\n",
      "檔案: chair_028_06.obj, 預測類別: 0, 機率: [0.8072, 0.1909, 0.0019]\n",
      "檔案: chair_028_07.obj, 預測類別: 0, 機率: [0.9998, 0.0001, 0.0001]\n",
      "檔案: chair_028_08.obj, 預測類別: 0, 機率: [1.0, 0.0, 0.0]\n",
      "檔案: chair_028_09.obj, 預測類別: 0, 機率: [0.8072, 0.1909, 0.0019]\n",
      "檔案: chair_029_01.obj, 預測類別: 1, 機率: [0.0685, 0.9042, 0.0273]\n",
      "檔案: chair_029_02.obj, 預測類別: 1, 機率: [0.1757, 0.8142, 0.0102]\n",
      "檔案: chair_029_03.obj, 預測類別: 0, 機率: [0.9998, 0.0001, 0.0]\n",
      "檔案: chair_029_04.obj, 預測類別: 0, 機率: [1.0, 0.0, 0.0]\n",
      "檔案: chair_029_05.obj, 預測類別: 0, 機率: [0.9993, 0.0005, 0.0002]\n",
      "檔案: chair_029_06.obj, 預測類別: 0, 機率: [0.9987, 0.0011, 0.0001]\n",
      "檔案: chair_029_07.obj, 預測類別: 0, 機率: [0.9998, 0.0, 0.0002]\n",
      "檔案: chair_029_08.obj, 預測類別: 0, 機率: [0.9852, 0.0138, 0.001]\n",
      "檔案: chair_029_09.obj, 預測類別: 0, 機率: [0.9829, 0.002, 0.0151]\n",
      "檔案: chair_029_10.obj, 預測類別: 0, 機率: [0.9801, 0.0016, 0.0183]\n",
      "檔案: chair_029_11.obj, 預測類別: 0, 機率: [0.999, 0.0, 0.001]\n",
      "檔案: chair_029_12.obj, 預測類別: 0, 機率: [0.9829, 0.007, 0.01]\n",
      "檔案: chair_029_13.obj, 預測類別: 0, 機率: [0.9521, 0.0187, 0.0292]\n",
      "檔案: chair_029_14.obj, 預測類別: 0, 機率: [0.9848, 0.0002, 0.015]\n",
      "檔案: chair_032_01.obj, 預測類別: 0, 機率: [1.0, 0.0, 0.0]\n",
      "檔案: chair_032_02.obj, 預測類別: 0, 機率: [1.0, 0.0, 0.0]\n",
      "檔案: chair_032_03.obj, 預測類別: 0, 機率: [0.9999, 0.0, 0.0001]\n",
      "檔案: chair_032_04.obj, 預測類別: 1, 機率: [0.0526, 0.9191, 0.0282]\n",
      "檔案: chair_032_05.obj, 預測類別: 0, 機率: [1.0, 0.0, 0.0]\n",
      "檔案: chair_032_06.obj, 預測類別: 0, 機率: [1.0, 0.0, 0.0]\n",
      "檔案: chair_032_07.obj, 預測類別: 0, 機率: [0.9944, 0.005, 0.0006]\n",
      "檔案: chair_032_08.obj, 預測類別: 0, 機率: [0.996, 0.0038, 0.0002]\n",
      "檔案: chair_032_09.obj, 預測類別: 0, 機率: [0.6733, 0.3199, 0.0067]\n",
      "檔案: chair_032_10.obj, 預測類別: 0, 機率: [0.9947, 0.0041, 0.0012]\n",
      "檔案: chair_066_01.obj, 預測類別: 0, 機率: [0.9998, 0.0002, 0.0]\n",
      "檔案: chair_066_02.obj, 預測類別: 0, 機率: [1.0, 0.0, 0.0]\n",
      "檔案: chair_066_03.obj, 預測類別: 0, 機率: [0.9981, 0.0019, 0.0]\n",
      "檔案: chair_066_04.obj, 預測類別: 0, 機率: [0.9989, 0.0011, 0.0]\n",
      "檔案: chair_066_05.obj, 預測類別: 0, 機率: [0.9996, 0.0004, 0.0]\n",
      "檔案: chair_066_06.obj, 預測類別: 0, 機率: [0.9999, 0.0001, 0.0]\n",
      "檔案: chair_066_07.obj, 預測類別: 0, 機率: [1.0, 0.0, 0.0]\n",
      "檔案: chair_066_08.obj, 預測類別: 0, 機率: [1.0, 0.0, 0.0]\n",
      "檔案: chair_066_09.obj, 預測類別: 0, 機率: [1.0, 0.0, 0.0]\n",
      "檔案: chair_066_10.obj, 預測類別: 0, 機率: [1.0, 0.0, 0.0]\n",
      "檔案: chair_066_11.obj, 預測類別: 0, 機率: [1.0, 0.0, 0.0]\n",
      "檔案: chair_066_12.obj, 預測類別: 1, 機率: [0.0161, 0.8828, 0.101]\n",
      "檔案: chair_066_13.obj, 預測類別: 2, 機率: [0.1198, 0.0699, 0.8104]\n",
      "檔案: chair_066_14.obj, 預測類別: 0, 機率: [0.9668, 0.0008, 0.0324]\n",
      "檔案: chair_066_15.obj, 預測類別: 0, 機率: [0.9407, 0.0161, 0.0432]\n",
      "檔案: chair_066_16.obj, 預測類別: 0, 機率: [0.8951, 0.0265, 0.0785]\n",
      "檔案: chair_066_17.obj, 預測類別: 0, 機率: [0.8654, 0.0296, 0.105]\n",
      "檔案: chair_066_18.obj, 預測類別: 0, 機率: [0.939, 0.0012, 0.0598]\n",
      "檔案: chair_066_19.obj, 預測類別: 2, 機率: [0.3535, 0.0094, 0.6371]\n",
      "檔案: chair_066_20.obj, 預測類別: 2, 機率: [0.0532, 0.0007, 0.9461]\n",
      "檔案: chair_066_21.obj, 預測類別: 2, 機率: [0.5168, 0.0175, 0.4656]\n",
      "檔案: chair_066_22.obj, 預測類別: 2, 機率: [0.5344, 0.1534, 0.3122]\n",
      "檔案: chair_066_23.obj, 預測類別: 2, 機率: [0.4128, 0.0083, 0.5789]\n",
      "檔案: chair_124_01.obj, 預測類別: 1, 機率: [0.0206, 0.9686, 0.0108]\n",
      "檔案: chair_124_02.obj, 預測類別: 0, 機率: [1.0, 0.0, 0.0]\n",
      "檔案: chair_124_03.obj, 預測類別: 0, 機率: [1.0, 0.0, 0.0]\n",
      "檔案: chair_124_04.obj, 預測類別: 0, 機率: [0.9999, 0.0001, 0.0]\n",
      "檔案: chair_124_05.obj, 預測類別: 0, 機率: [0.9995, 0.0004, 0.0]\n",
      "檔案: chair_124_06.obj, 預測類別: 1, 機率: [0.0132, 0.9774, 0.0094]\n",
      "檔案: chair_124_07.obj, 預測類別: 2, 機率: [0.021, 0.6546, 0.3245]\n",
      "檔案: chair_124_08.obj, 預測類別: 2, 機率: [0.3187, 0.1609, 0.5204]\n",
      "檔案: chair_124_09.obj, 預測類別: 0, 機率: [0.8184, 0.0569, 0.1247]\n",
      "檔案: chair_124_10.obj, 預測類別: 0, 機率: [0.9767, 0.0, 0.0233]\n",
      "檔案: chair_124_11.obj, 預測類別: 0, 機率: [0.9095, 0.0, 0.0904]\n",
      "檔案: chair_124_12.obj, 預測類別: 0, 機率: [0.9155, 0.0043, 0.0802]\n",
      "檔案: chair_124_13.obj, 預測類別: 0, 機率: [0.7389, 0.112, 0.1491]\n",
      "檔案: chair_124_14.obj, 預測類別: 2, 機率: [0.479, 0.0515, 0.4695]\n",
      "檔案: chair_124_15.obj, 預測類別: 2, 機率: [0.0018, 0.0, 0.9982]\n",
      "檔案: chair_124_16.obj, 預測類別: 2, 機率: [0.0009, 0.0, 0.9991]\n",
      "檔案: chair_124_17.obj, 預測類別: 2, 機率: [0.5674, 0.0026, 0.43]\n",
      "檔案: chair_124_18.obj, 預測類別: 2, 機率: [0.4438, 0.2432, 0.313]\n"
     ]
    }
   ],
   "source": [
    "torch.save(model.state_dict(), \"mesh_classifier.pth\")\n",
    "\n",
    "device = torch.device(\"cuda\" if torch.cuda.is_available() else \"cpu\")\n",
    "\n",
    "model = MeshClassifier().to(device)\n",
    "model.load_state_dict(torch.load(\"mesh_classifier.pth\", map_location=device))\n",
    "model.eval()  \n",
    "\n",
    "def predict_and_save(test_files, output_csv, model, device):\n",
    "    results = []\n",
    "\n",
    "    for filename in os.listdir(test_files):\n",
    "        if filename.endswith(\".obj\"):\n",
    "            mesh_path = os.path.join(test_files, filename)\n",
    "\n",
    "            # 加載 Mesh\n",
    "            mesh = trimesh.load(mesh_path)\n",
    "            vertices = torch.FloatTensor(mesh.vertices).unsqueeze(0).to(device)  # (N, 3) -> (1, N, 3)\n",
    "\n",
    "            with torch.no_grad():\n",
    "                output = model([vertices.squeeze(0)])  # 取得 logits\n",
    "                probabilities = F.softmax(output, dim=1)  # 轉換為機率分佈\n",
    "\n",
    "                if probabilities[0, 2] > 0.3: \n",
    "                    predicted_class = 2\n",
    "                else:\n",
    "                    predicted_class = torch.argmax(probabilities, dim=1).item()  # 找出機率最高的類別\n",
    "\n",
    "            # 轉換為 Python 數值格式，並四捨五入到小數4位\n",
    "            prob_list = [round(p, 4) for p in probabilities.squeeze(0).tolist()]\n",
    "            results.append([filename, predicted_class, prob_list[0], prob_list[1], prob_list[2]])\n",
    "\n",
    "            print(f\"檔案: {filename}, 預測類別: {predicted_class}, 機率: {prob_list}\")\n",
    "\n",
    "    # 儲存結果至 CSV\n",
    "    with open(output_csv, mode=\"w\", newline=\"\") as file:\n",
    "        writer = csv.writer(file)\n",
    "        writer.writerow([\"filename\", \"predicted_class\", \"class_0_prob\", \"class_1_prob\", \"class_2_prob\"])\n",
    "        writer.writerows(results)\n",
    "\n",
    "test_files = \"obj_files/\"\n",
    "output_csv = \"prediction.csv\"\n",
    "predict_and_save(test_files, output_csv, model, device)"
   ]
  }
 ],
 "metadata": {
  "kernelspec": {
   "display_name": "pytorch_env",
   "language": "python",
   "name": "python3"
  },
  "language_info": {
   "codemirror_mode": {
    "name": "ipython",
    "version": 3
   },
   "file_extension": ".py",
   "mimetype": "text/x-python",
   "name": "python",
   "nbconvert_exporter": "python",
   "pygments_lexer": "ipython3",
   "version": "3.12.9"
  }
 },
 "nbformat": 4,
 "nbformat_minor": 2
}
