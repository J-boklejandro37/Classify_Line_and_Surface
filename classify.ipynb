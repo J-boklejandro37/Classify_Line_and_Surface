{
 "cells": [
  {
   "cell_type": "code",
   "execution_count": 2,
   "metadata": {},
   "outputs": [],
   "source": [
    "import os\n",
    "import pandas as pd\n",
    "import torch\n",
    "from torch.utils.data import Dataset, DataLoader\n",
    "\n",
    "class ObjectDataset(Dataset):\n",
    "    \"\"\"\n",
    "    A PyTorch Dataset for 3D object data with labels\n",
    "    \"\"\"\n",
    "    def __init__(self, csv_file, transform=None):\n",
    "        \"\"\"\n",
    "        Args:\n",
    "            csv_file (string): Path to the csv file with object paths and labels\n",
    "            transform (callable, optional): Optional transform to be applied on a sample\n",
    "        \"\"\"\n",
    "        self.data_frame = pd.read_csv(csv_file, header=None)\n",
    "        self.transform = transform\n",
    "        \n",
    "    def __len__(self):\n",
    "        return len(self.data_frame)\n",
    "    \n",
    "    def __getitem__(self, idx):\n",
    "        if torch.is_tensor(idx):\n",
    "            idx = idx.tolist()\n",
    "        \n",
    "        # Get object file name and label\n",
    "        obj_name = self.data_frame.iloc[idx, 0].strip()\n",
    "        label = self.data_frame.iloc[idx, 1]\n",
    "        \n",
    "        # Here you would typically load the 3D object data\n",
    "        # For example, using a library like trimesh or pytorch3d\n",
    "        # sample = load_object(obj_name)\n",
    "        \n",
    "        # For now, we'll just return the object name and label\n",
    "        sample = {'obj_name': obj_name, 'label': label}\n",
    "        \n",
    "        if self.transform:\n",
    "            sample = self.transform(sample)\n",
    "            \n",
    "        return sample"
   ]
  },
  {
   "cell_type": "code",
   "execution_count": 3,
   "metadata": {},
   "outputs": [
    {
     "name": "stdout",
     "output_type": "stream",
     "text": [
      "Batch 0:\n",
      "Object names: ['chair_019_11.obj', 'chair_001_16.obj', 'chair_018_02.obj', 'chair_018_09.obj']\n",
      "Labels: tensor([0, 0, 0, 0])\n",
      "Batch 1:\n",
      "Object names: ['chair_001_07.obj', 'chair_066_19.obj', 'chair_001_20.obj', 'chair_066_03.obj']\n",
      "Labels: tensor([0, 2, 0, 0])\n"
     ]
    }
   ],
   "source": [
    "# Create the dataset\n",
    "dataset = ObjectDataset(csv_file='labels.csv')\n",
    "\n",
    "# Create a dataloader\n",
    "dataloader = DataLoader(dataset, batch_size=4, shuffle=True, num_workers=0)\n",
    "\n",
    "# Example of iterating through the dataloader\n",
    "for i_batch, sample_batched in enumerate(dataloader):\n",
    "    print(f\"Batch {i_batch}:\")\n",
    "    print(f\"Object names: {sample_batched['obj_name']}\")\n",
    "    print(f\"Labels: {sample_batched['label']}\")\n",
    "    \n",
    "    # Stop after 2 batches for this example\n",
    "    if i_batch == 1:\n",
    "        break"
   ]
  }
 ],
 "metadata": {
  "kernelspec": {
   "display_name": "pytorch_env",
   "language": "python",
   "name": "python3"
  },
  "language_info": {
   "codemirror_mode": {
    "name": "ipython",
    "version": 3
   },
   "file_extension": ".py",
   "mimetype": "text/x-python",
   "name": "python",
   "nbconvert_exporter": "python",
   "pygments_lexer": "ipython3",
   "version": "3.12.9"
  }
 },
 "nbformat": 4,
 "nbformat_minor": 2
}
